{
 "cells": [
  {
   "cell_type": "code",
   "execution_count": 2,
   "id": "bfb8fc72-99c3-49f3-93ae-ae153a010187",
   "metadata": {},
   "outputs": [],
   "source": [
    "from genericpath import isdir\n",
    "from PIL import Image\n",
    "import os, sys"
   ]
  },
  {
   "cell_type": "code",
   "execution_count": 3,
   "id": "2de282a8-57f5-48f0-a5e2-3fdc5d0a8503",
   "metadata": {},
   "outputs": [],
   "source": [
    "data_path = \"/media/Tomasz/4T/work/dexined/largeEdgeDetectionDataset\"\n",
    "output_path = \"/media/Tomasz/4T/work/dexined/tmp/largeEdgeDetectionDataset\"\n",
    "    \n",
    "\n",
    "train_path = \"train\"\n",
    "edge_train_path = \"train_edge\"\n",
    "\n",
    "test_path = \"test\"\n",
    "edge_test_path = \"test_edge\"\n",
    "\n",
    "val_path = \"val\"\n",
    "edge_val_path = \"val_edge\"\n",
    "\n",
    "\n",
    "folders =[]\n",
    "folders.append(test_path)\n",
    "folders.append(edge_test_path)\n",
    "folders.append(train_path)\n",
    "folders.append(edge_train_path)\n",
    "folders.append(val_path)\n",
    "folders.append(edge_val_path)"
   ]
  },
  {
   "cell_type": "code",
   "execution_count": 6,
   "id": "ae737db5-cb63-45c1-985f-ce35750e9660",
   "metadata": {},
   "outputs": [
    {
     "name": "stdout",
     "output_type": "stream",
     "text": [
      "/media/Tomasz/4T/work/dexined/largeEdgeDetectionDataset\n",
      "/media/Tomasz/4T/work/dexined/largeEdgeDetectionDataset/test\n",
      "/media/Tomasz/4T/work/dexined/largeEdgeDetectionDataset/test_edge\n",
      "/media/Tomasz/4T/work/dexined/largeEdgeDetectionDataset/train\n",
      "/media/Tomasz/4T/work/dexined/largeEdgeDetectionDataset/train_edge\n",
      "/media/Tomasz/4T/work/dexined/largeEdgeDetectionDataset/val\n",
      "/media/Tomasz/4T/work/dexined/largeEdgeDetectionDataset/val_edge\n"
     ]
    }
   ],
   "source": [
    "print(data_path)\n",
    "\n",
    "NEW_SIZE = (912,512)\n",
    "for folder in folders:\n",
    "    path = os.path.join(data_path,folder)\n",
    "    print(path)\n",
    "    save_path = os.path.join(output_path,folder)\n",
    "    images = os.listdir(path)\n",
    "\n",
    "    if not os.path.isdir(save_path):\n",
    "        os.makedirs(save_path)\n",
    "\n",
    "\n",
    "    for image in images:\n",
    "        image_path = os.path.join(path, image)\n",
    "        image_save_path = os.path.join(save_path, image)\n",
    "        \n",
    "        if image.split(\".\")[1] not in [\"jpg\", \"png\"]:\n",
    "            continue\n",
    "        if os.path.exists(image_path) and not os.path.exists(image_save_path):\n",
    "            im = Image.open(image_path)\n",
    "            image_resized = im.resize(NEW_SIZE)\n",
    "            image_resized.save(image_save_path, quality=100)\n",
    "            #print(\"saved \", image_save_path)"
   ]
  }
 ],
 "metadata": {
  "kernelspec": {
   "display_name": "Python 3 (ipykernel)",
   "language": "python",
   "name": "python3"
  },
  "language_info": {
   "codemirror_mode": {
    "name": "ipython",
    "version": 3
   },
   "file_extension": ".py",
   "mimetype": "text/x-python",
   "name": "python",
   "nbconvert_exporter": "python",
   "pygments_lexer": "ipython3",
   "version": "3.8.10"
  }
 },
 "nbformat": 4,
 "nbformat_minor": 5
}
