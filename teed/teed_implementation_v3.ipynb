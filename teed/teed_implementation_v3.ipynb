{
 "cells": [
  {
   "cell_type": "code",
   "execution_count": 1,
   "metadata": {
    "colab": {
     "base_uri": "https://localhost:8080/"
    },
    "executionInfo": {
     "elapsed": 1947,
     "status": "ok",
     "timestamp": 1729889384359,
     "user": {
      "displayName": "Stefania Stefanska",
      "userId": "00621967363159764559"
     },
     "user_tz": -120
    },
    "id": "zF_Mo72VOCeJ",
    "outputId": "35c016f2-1276-4e25-e848-0e80fe56dfa3"
   },
   "outputs": [
    {
     "name": "stderr",
     "output_type": "stream",
     "text": [
      "2024-11-11 02:19:24.402655: E external/local_xla/xla/stream_executor/cuda/cuda_dnn.cc:9373] Unable to register cuDNN factory: Attempting to register factory for plugin cuDNN when one has already been registered\n",
      "2024-11-11 02:19:24.402742: E external/local_xla/xla/stream_executor/cuda/cuda_fft.cc:607] Unable to register cuFFT factory: Attempting to register factory for plugin cuFFT when one has already been registered\n",
      "2024-11-11 02:19:24.405191: E external/local_xla/xla/stream_executor/cuda/cuda_blas.cc:1534] Unable to register cuBLAS factory: Attempting to register factory for plugin cuBLAS when one has already been registered\n"
     ]
    },
    {
     "name": "stdout",
     "output_type": "stream",
     "text": [
      "2.15.0\n"
     ]
    }
   ],
   "source": [
    "import tensorflow as tf\n",
    "from tensorflow import keras\n",
    "import numpy as np\n",
    "from glob import glob\n",
    "import matplotlib.pyplot as plt\n",
    "import cv2\n",
    "import os\n",
    "import time\n",
    "import random\n",
    "\n",
    "print(tf.__version__)\n",
    "from tensorflow.keras import optimizers, metrics, losses\n",
    "from tensorflow.keras import regularizers\n",
    "from tensorflow.keras.layers import Input, Conv2D, BatchNormalization, Activation, MaxPool2D, UpSampling2D, Concatenate, Conv2DTranspose\n",
    "from tensorflow.keras.models import Model\n",
    "from tensorflow.keras.callbacks import ModelCheckpoint, ReduceLROnPlateau, EarlyStopping\n",
    "from tensorflow.keras.metrics import Recall, Precision\n",
    "from tensorflow.keras import backend as K\n",
    "from keras.initializers import RandomNormal\n",
    "\n",
    "from keras.layers import Input, Conv2D, Flatten, Dense, Conv2DTranspose, Reshape, Lambda, Activation, BatchNormalization, LeakyReLU, Dropout, ZeroPadding2D, UpSampling2D\n",
    "from tensorflow.keras.layers import Conv1D,MaxPooling1D,Conv1DTranspose,AveragePooling1D,GlobalMaxPool1D,GlobalAveragePooling1D\n",
    "from tensorflow.keras.layers import Conv2D,MaxPool2D,Conv2DTranspose,AveragePooling2D,GlobalMaxPool2D,GlobalAveragePooling2D\n",
    "from tensorflow.keras.layers import Conv3D,MaxPooling3D,Conv3DTranspose,AveragePooling3D,GlobalMaxPool3D,GlobalAveragePooling3D\n",
    "from tensorflow.keras.layers import Dense,Flatten,Dropout,Concatenate,Layer,BatchNormalization,Input,Add,Activation,Average\n",
    "\n",
    "from tensorflow.keras import layers"
   ]
  },
  {
   "cell_type": "code",
   "execution_count": 2,
   "metadata": {},
   "outputs": [
    {
     "name": "stdout",
     "output_type": "stream",
     "text": [
      "/media/Tomasz/4T/work/dexined/tmp/largeEdgeDetectionDataset/test_edge/*\n"
     ]
    }
   ],
   "source": [
    "#data_path = \"outlineOutput\"\n",
    "#data_path = \"H:\\\\download\\\\blender\\\\projects\\\\vdmTests\\\\outlineOutput\"\n",
    "#output_path = \"H:\\\\tmp\\\\dexined\"\n",
    "#data_path = \"/media/Tomasz/4T/work/dexined/outlineOutput\"\n",
    "\n",
    "data_path = \"/media/Tomasz/4T/work/dexined/tmp/largeEdgeDetectionDataset\"\n",
    "output_path = \"/media/Tomasz/4T/work/dexined/tmp/teed\"\n",
    "\n",
    "\n",
    "train_path = data_path + \"/train/*\"\n",
    "edge_train_path = data_path + \"/train_edge/*\"\n",
    "\n",
    "test_path = data_path + \"/test/*\"\n",
    "edge_test_path = data_path + \"/test_edge/*\"\n",
    "\n",
    "val_path = data_path + \"/val/*\"\n",
    "edge_val_path = data_path + \"/val_edge/*\"\n",
    "\n",
    "print(edge_test_path)"
   ]
  },
  {
   "cell_type": "code",
   "execution_count": 3,
   "metadata": {
    "id": "Wfg4fFHzRJRw"
   },
   "outputs": [],
   "source": [
    "def load_data(ipath, epath):\n",
    "    images = sorted(glob(os.path.join(ipath)))\n",
    "    random.shuffle(images)\n",
    "    edges = sorted(glob(os.path.join(epath)))\n",
    "    random.shuffle(edges)\n",
    "    return images, edges"
   ]
  },
  {
   "cell_type": "code",
   "execution_count": 4,
   "metadata": {
    "id": "QhsGIKuqRLxA"
   },
   "outputs": [
    {
     "name": "stdout",
     "output_type": "stream",
     "text": [
      "40595 40595\n"
     ]
    }
   ],
   "source": [
    "images, edges = load_data(train_path, edge_train_path)\n",
    "valimg, valedg = load_data(val_path, edge_val_path)\n",
    "print(len(images), len(edges))"
   ]
  },
  {
   "cell_type": "code",
   "execution_count": 5,
   "metadata": {
    "colab": {
     "base_uri": "https://localhost:8080/"
    },
    "executionInfo": {
     "elapsed": 329,
     "status": "ok",
     "timestamp": 1729886804972,
     "user": {
      "displayName": "Stefania Stefanska",
      "userId": "00621967363159764559"
     },
     "user_tz": -120
    },
    "id": "d6QAy1REROhL",
    "outputId": "21a8b0b9-76ca-485a-b3fd-dd4bd5f35db9"
   },
   "outputs": [
    {
     "name": "stdout",
     "output_type": "stream",
     "text": [
      "/media/Tomasz/4T/work/dexined/tmp/largeEdgeDetectionDataset/train/dense200_12924.png\n",
      "/media/Tomasz/4T/work/dexined/tmp/largeEdgeDetectionDataset/train/jasny200_10620.png\n",
      "/media/Tomasz/4T/work/dexined/tmp/largeEdgeDetectionDataset/train/dense200_10159.png\n",
      "/media/Tomasz/4T/work/dexined/tmp/largeEdgeDetectionDataset/train/jasnyyy200_9037.png\n",
      "/media/Tomasz/4T/work/dexined/tmp/largeEdgeDetectionDataset/train/dense200_8027.png\n",
      "/media/Tomasz/4T/work/dexined/tmp/largeEdgeDetectionDataset/train/dense200_3761.png\n"
     ]
    }
   ],
   "source": [
    "for file in range(6):\n",
    "    print(images[file])\n"
   ]
  },
  {
   "cell_type": "code",
   "execution_count": 6,
   "metadata": {
    "id": "mucAnN8DSiX1"
   },
   "outputs": [],
   "source": [
    "def read_image(path, H=512, W=912):\n",
    "    x = cv2.imread(path, cv2.IMREAD_COLOR)\n",
    "    x = cv2.resize(x, (W,H))\n",
    "    x = x/255.0\n",
    "    x = x.astype(np.float32)\n",
    "    return x\n",
    "\n",
    "def read_edge(path, H=512, W=912):\n",
    "    x = cv2.imread(path, cv2.IMREAD_GRAYSCALE)\n",
    "    x = cv2.resize(x, (W,H))\n",
    "    x = np.expand_dims(x, axis=-1)\n",
    "    x = x/255.0\n",
    "    x = x.astype(np.float32)\n",
    "    return x"
   ]
  },
  {
   "cell_type": "code",
   "execution_count": 7,
   "metadata": {
    "colab": {
     "base_uri": "https://localhost:8080/",
     "height": 362
    },
    "executionInfo": {
     "elapsed": 462,
     "status": "ok",
     "timestamp": 1729890249446,
     "user": {
      "displayName": "Stefania Stefanska",
      "userId": "00621967363159764559"
     },
     "user_tz": -120
    },
    "id": "7hD4Ss0nTvs5",
    "outputId": "d1b776e6-8780-45c3-db5e-d8e27b287de8"
   },
   "outputs": [
    {
     "data": {
      "text/plain": [
       "<matplotlib.image.AxesImage at 0xfffed5b95e40>"
      ]
     },
     "execution_count": 7,
     "metadata": {},
     "output_type": "execute_result"
    },
    {
     "data": {
      "image/png": "[encoded data removed]",
      "text/plain": [
       "<Figure size 640x480 with 1 Axes>"
      ]
     },
     "metadata": {},
     "output_type": "display_data"
    }
   ],
   "source": [
    "\n",
    "img = read_edge(data_path+\"/train_edge/dense_000.png\", H=512, W=912)\n",
    "plt.imshow(img)"
   ]
  },
  {
   "cell_type": "code",
   "execution_count": 8,
   "metadata": {
    "id": "rT9rmkNyVphm"
   },
   "outputs": [],
   "source": [
    "def preprocess(x,y,H=512, W=912):\n",
    "\n",
    "    def f(x,y):\n",
    "        x = x.decode()\n",
    "        y = y.decode()\n",
    "\n",
    "        x = read_image(x)\n",
    "        y = read_edge(y)\n",
    "        return x, y\n",
    "\n",
    "    images, edges = tf.numpy_function(f, [x, y], [tf.float32, tf.float32])\n",
    "    images.set_shape([H, W, 3])\n",
    "    edges.set_shape([H, W, 1])\n",
    "    return images, edges"
   ]
  },
  {
   "cell_type": "code",
   "execution_count": 9,
   "metadata": {
    "id": "KIwupAtAVvxY"
   },
   "outputs": [],
   "source": [
    "AUTOTUNE = tf.data.AUTOTUNE\n",
    "\n",
    "def tf_data(x,y):\n",
    "    data = tf.data.Dataset.from_tensor_slices((x,y))\n",
    "    data = data.cache()\n",
    "    data = data.shuffle(buffer_size=10)\n",
    "    data = data.map(preprocess, num_parallel_calls=tf.data.experimental.AUTOTUNE)\n",
    "    data = data.batch(12)\n",
    "    data = data.prefetch(buffer_size=tf.data.experimental.AUTOTUNE)\n",
    "    return data\n"
   ]
  },
  {
   "cell_type": "code",
   "execution_count": 10,
   "metadata": {
    "id": "NFwyUh9tVyYn"
   },
   "outputs": [
    {
     "name": "stderr",
     "output_type": "stream",
     "text": [
      "2024-11-11 02:22:49.922561: I external/local_xla/xla/stream_executor/cuda/cuda_executor.cc:887] could not open file to read NUMA node: /sys/bus/pci/devices/0000:00:00.0/numa_node\n",
      "Your kernel may have been built without NUMA support.\n",
      "2024-11-11 02:22:49.954603: I external/local_xla/xla/stream_executor/cuda/cuda_executor.cc:887] could not open file to read NUMA node: /sys/bus/pci/devices/0000:00:00.0/numa_node\n",
      "Your kernel may have been built without NUMA support.\n",
      "2024-11-11 02:22:49.954766: I external/local_xla/xla/stream_executor/cuda/cuda_executor.cc:887] could not open file to read NUMA node: /sys/bus/pci/devices/0000:00:00.0/numa_node\n",
      "Your kernel may have been built without NUMA support.\n",
      "2024-11-11 02:22:49.965117: I external/local_xla/xla/stream_executor/cuda/cuda_executor.cc:887] could not open file to read NUMA node: /sys/bus/pci/devices/0000:00:00.0/numa_node\n",
      "Your kernel may have been built without NUMA support.\n",
      "2024-11-11 02:22:49.965265: I external/local_xla/xla/stream_executor/cuda/cuda_executor.cc:887] could not open file to read NUMA node: /sys/bus/pci/devices/0000:00:00.0/numa_node\n",
      "Your kernel may have been built without NUMA support.\n",
      "2024-11-11 02:22:49.965389: I external/local_xla/xla/stream_executor/cuda/cuda_executor.cc:887] could not open file to read NUMA node: /sys/bus/pci/devices/0000:00:00.0/numa_node\n",
      "Your kernel may have been built without NUMA support.\n",
      "2024-11-11 02:22:50.046243: I external/local_xla/xla/stream_executor/cuda/cuda_executor.cc:887] could not open file to read NUMA node: /sys/bus/pci/devices/0000:00:00.0/numa_node\n",
      "Your kernel may have been built without NUMA support.\n",
      "2024-11-11 02:22:50.046509: I external/local_xla/xla/stream_executor/cuda/cuda_executor.cc:887] could not open file to read NUMA node: /sys/bus/pci/devices/0000:00:00.0/numa_node\n",
      "Your kernel may have been built without NUMA support.\n",
      "2024-11-11 02:22:50.046557: I tensorflow/core/common_runtime/gpu/gpu_device.cc:2019] Could not identify NUMA node of platform GPU id 0, defaulting to 0.  Your kernel may not have been built with NUMA support.\n",
      "2024-11-11 02:22:50.046648: I external/local_xla/xla/stream_executor/cuda/cuda_executor.cc:887] could not open file to read NUMA node: /sys/bus/pci/devices/0000:00:00.0/numa_node\n",
      "Your kernel may have been built without NUMA support.\n",
      "2024-11-11 02:22:50.046718: I tensorflow/core/common_runtime/gpu/gpu_device.cc:1926] Created device /job:localhost/replica:0/task:0/device:GPU:0 with 51008 MB memory:  -> device: 0, name: Orin, pci bus id: 0000:00:00.0, compute capability: 8.7\n"
     ]
    }
   ],
   "source": [
    "train_data = tf_data(images, edges)\n",
    "val_data = tf_data(valimg, valedg)"
   ]
  },
  {
   "cell_type": "code",
   "execution_count": 11,
   "metadata": {
    "id": "ecRC9seEV0zc"
   },
   "outputs": [
    {
     "name": "stdout",
     "output_type": "stream",
     "text": [
      "3383 347\n"
     ]
    }
   ],
   "source": [
    "#for x, y in train_data:\n",
    "#  print(x.shape, y.shape)\n",
    "#\n",
    "print(len(train_data),len(val_data))\n"
   ]
  },
  {
   "cell_type": "code",
   "execution_count": 12,
   "metadata": {},
   "outputs": [],
   "source": [
    "@tf.function\n",
    "def smish(input):\n",
    "    return input * tf.math.tanh(tf.math.log(1+tf.math.sigmoid(input)))\n",
    "\n",
    "class Smish(layers.Layer):\n",
    "\n",
    "    def __init__(self):\n",
    "        \"\"\"\n",
    "        Init method.\n",
    "        \"\"\"\n",
    "        super().__init__()\n",
    "\n",
    "    def call(self, input):\n",
    "        \"\"\"\n",
    "        Forward pass of the function.\n",
    "        \"\"\"\n",
    "        return smish(input)"
   ]
  },
  {
   "cell_type": "code",
   "execution_count": 13,
   "metadata": {
    "id": "arFATtCJWBT1"
   },
   "outputs": [],
   "source": [
    "weight_init = tf.initializers.glorot_uniform()\n",
    "\n",
    "l2 = regularizers.l2\n",
    "w_decay=1e-3\n",
    "\n",
    "glorot_normal = RandomNormal(stddev=0.01)\n",
    "\n",
    "orthogonal = tf.keras.initializers.Orthogonal(\n",
    "    gain=1.0, seed=None\n",
    ")"
   ]
  },
  {
   "cell_type": "code",
   "execution_count": 14,
   "metadata": {
    "id": "Lq8s_-1AXMP0"
   },
   "outputs": [
    {
     "name": "stderr",
     "output_type": "stream",
     "text": [
      "/usr/local/lib/python3.10/dist-packages/keras/src/initializers/initializers.py:120: UserWarning: The initializer RandomNormal is unseeded and being called multiple times, which will return identical values each time (even if the initializer is unseeded). Please update your code to provide a seed to the initializer, or avoid using the same initializer instance more than once.\n",
      "  warnings.warn(\n",
      "/usr/local/lib/python3.10/dist-packages/keras/src/initializers/initializers.py:120: UserWarning: The initializer Orthogonal is unseeded and being called multiple times, which will return identical values each time (even if the initializer is unseeded). Please update your code to provide a seed to the initializer, or avoid using the same initializer instance more than once.\n",
      "  warnings.warn(\n"
     ]
    }
   ],
   "source": [
    "self_conv2D_1 = Conv2D(16 , kernel_size=(3,3),strides=(2,2),padding = 'same',use_bias=True,kernel_initializer= glorot_normal)\n",
    "self_conv2D_11 = Conv2D(16 , kernel_size=(3,3),strides=(1,1),padding = 'same',use_bias=True,kernel_initializer= glorot_normal)\n",
    "self_conv2D_17 = Conv2D(32 , kernel_size=(3,3),strides=(1,1),padding = 'same')\n",
    "self_conv2D_18 = Conv2D(1 , kernel_size=(1,1),strides=(1,1),padding = 'same',activation='relu',use_bias=True,kernel_initializer= glorot_normal)\n",
    "self_conv2D_19 = Conv2D(32 , kernel_size=(1,1),strides=(2,2),padding = 'same')\n",
    "self_conv2D_12 = Conv2D(32 , kernel_size=(3,3),strides=(1,1),padding = 'same')\n",
    "self_transpoze2D_1 = Conv2DTranspose(1 , kernel_size=(2,2),strides=(2,2),padding = 'same',use_bias=True,kernel_initializer= glorot_normal)\n",
    "self_conv2D_5 = Conv2D(1 , kernel_size=(1,1),strides=(1,1),padding = 'same',activation='relu',use_bias=True,kernel_initializer= glorot_normal)\n",
    "self_maxpool2D_1 = MaxPool2D(pool_size=(3,3),strides=(2,2),padding = 'same')\n",
    "self_conv2D_24 = Conv2D(48 , kernel_size=(1,1),strides=(1,1),padding = 'same')\n",
    "self_transpoze2D_4 = Conv2DTranspose(1 , kernel_size=(2,2),strides=(2,2),padding = 'same',use_bias=True,kernel_initializer= glorot_normal)\n",
    "self_conv2D_2 = Conv2D(32 , kernel_size=(3,3),strides=(1,1),padding = 'same')\n",
    "self_conv2D_3 = Conv2D(48 , kernel_size=(3,3),strides=(1,1),padding = 'same')\n",
    "self_conv2D_20 = Conv2D(16 , kernel_size=(1,1),strides=(1,1),padding = 'same',activation='relu',use_bias=True,kernel_initializer= glorot_normal)\n",
    "self_transpoze2D_2 = Conv2DTranspose(16 , kernel_size=(2,2),strides=(2,2),padding = 'same',use_bias=True,kernel_initializer= glorot_normal)\n",
    "self_conv2D_21 = Conv2D(1 , kernel_size=(1,1),strides=(1,1),padding = 'same',activation='relu',use_bias=True,kernel_initializer= glorot_normal)\n",
    "self_transpoze2D_3 = Conv2DTranspose(1 , kernel_size=(4,4),strides=(2,2),padding = 'same',use_bias=True,kernel_initializer= glorot_normal)\n",
    "self_concatenate_1 = Concatenate(axis=3)\n",
    "self_conv2D_22 = Conv2D(24 , kernel_size=(3,3),strides=(1,1),padding = 'same')\n",
    "self_conv2D_23 = Conv2D(24 , kernel_size=(3,3),strides=(1,1),padding = 'same')\n",
    "self_conv2D_6 = Conv2D(24 , kernel_size=(3,3),strides=(1,1),padding = 'same',activation='relu')\n",
    "self_concatenate_2 = Concatenate(axis=3)\n",
    "self_conv2D_7 = Conv2D(24 , kernel_size=(3,3),strides=(1,1),padding = 'same',activation='relu')\n",
    "self_concatenate_3 = Concatenate(axis=3)\n",
    "self_conv2D_8 = Conv2D(24 , kernel_size=(3,3),strides=(1,1),padding = 'same',activation='relu')\n",
    "self_concatenate_4 = Concatenate(axis=3)\n",
    "self_conv2D_4 = Conv2D(24 , kernel_size=(3,3),strides=(1,1),padding = 'same',activation='relu')\n",
    "self_conv2D_10 = Conv2D(32 , kernel_size=(3,3),strides=(1,1),padding = 'same',activation='relu',kernel_initializer= orthogonal)\n",
    "self_conv2D_13 = Conv2D(32 , kernel_size=(3,3),strides=(1,1),padding = 'same',activation='relu')\n",
    "self_concatenate_5 = Concatenate(axis=3)\n",
    "self_conv2D_14 = Conv2D(32 , kernel_size=(3,3),strides=(1,1),padding = 'same',activation='relu')\n",
    "self_concatenate_6 = Concatenate(axis=3)\n",
    "self_conv2D_15 = Conv2D(32 , kernel_size=(3,3),strides=(1,1),padding = 'same',activation='relu')\n",
    "self_concatenate_7 = Concatenate(axis=3)\n",
    "self_conv2D_16 = Conv2D(32 , kernel_size=(3,3),strides=(1,1),padding = 'same',activation='relu')\n",
    "self_conv2D_9 = Conv2D(1 , kernel_size=(1,1),strides=(1,1),padding = 'same',activation='relu',kernel_initializer= orthogonal)\n",
    "\n",
    "self_activation_9=Smish()\n",
    "self_activation_2=Smish()\n",
    "self_activation_3=Smish()\n",
    "self_activation_8=Smish()\n",
    "self_activation_7=Smish()\n",
    "self_activation_5=Smish()\n",
    "self_activation_1=Smish()\n",
    "self_activation_6=Smish()\n",
    "self_activation_4=Smish()\n",
    "\n",
    "x = Input(shape=(512,912,3))\n",
    "\n",
    "\n",
    "conv2D_1 = self_conv2D_1(x)\n",
    "\n",
    "\n",
    "activation_9 = self_activation_9(conv2D_1)\n",
    "conv2D_11 = self_conv2D_11(activation_9)\n",
    "activation_2 = self_activation_2(conv2D_11)\n",
    "conv2D_17 = self_conv2D_17(activation_2)\n",
    "conv2D_18 = self_conv2D_18(activation_2)\n",
    "conv2D_19 = self_conv2D_19(activation_2)\n",
    "activation_3 = self_activation_3(conv2D_17)\n",
    "activation_8 = self_activation_8(conv2D_18)\n",
    "conv2D_12 = self_conv2D_12(activation_3)\n",
    "transpoze2D_1 = self_transpoze2D_1(activation_8)\n",
    "conv2D_5 = self_conv2D_5(conv2D_12)\n",
    "maxpool2D_1 = self_maxpool2D_1(conv2D_12)\n",
    "activation_7 = self_activation_7(conv2D_5)\n",
    "add_1 = Add()([conv2D_19,maxpool2D_1])\n",
    "conv2D_24 = self_conv2D_24(maxpool2D_1)\n",
    "transpoze2D_4 = self_transpoze2D_4(activation_7)\n",
    "conv2D_2 = self_conv2D_2(add_1)\n",
    "activation_5 = self_activation_5(conv2D_2)\n",
    "conv2D_3 = self_conv2D_3(activation_5)\n",
    "average_1 = Average()([conv2D_3,conv2D_24])\n",
    "conv2D_20 = self_conv2D_20(average_1)\n",
    "activation_1 = self_activation_1(conv2D_20)\n",
    "transpoze2D_2 = self_transpoze2D_2(activation_1)\n",
    "conv2D_21 = self_conv2D_21(transpoze2D_2)\n",
    "activation_6 = self_activation_6(conv2D_21)\n",
    "transpoze2D_3 = self_transpoze2D_3(activation_6)\n",
    "concatenate_1_TMP = [transpoze2D_1,transpoze2D_3,transpoze2D_4]\n",
    "concatenate_1 = self_concatenate_1(concatenate_1_TMP)\n",
    "conv2D_22 = self_conv2D_22(concatenate_1)\n",
    "conv2D_23 = self_conv2D_23(conv2D_22)\n",
    "activation_4 = self_activation_4(conv2D_23)\n",
    "conv2D_6 = self_conv2D_6(activation_4)\n",
    "concatenate_2_TMP = [conv2D_23,conv2D_6]\n",
    "concatenate_2 = self_concatenate_2(concatenate_2_TMP)\n",
    "conv2D_7 = self_conv2D_7(concatenate_2)\n",
    "concatenate_3_TMP = [concatenate_2,conv2D_7]\n",
    "concatenate_3 = self_concatenate_3(concatenate_3_TMP)\n",
    "conv2D_8 = self_conv2D_8(concatenate_3)\n",
    "concatenate_4_TMP = [concatenate_2,concatenate_3,conv2D_8]\n",
    "concatenate_4 = self_concatenate_4(concatenate_4_TMP)\n",
    "conv2D_4 = self_conv2D_4(concatenate_4)\n",
    "\n",
    "\n",
    "add_2 = Add()([conv2D_23,conv2D_4])\n",
    "\n",
    "\n",
    "conv2D_10 = self_conv2D_10(add_2)\n",
    "conv2D_13 = self_conv2D_13(conv2D_10)\n",
    "concatenate_5_TMP = [conv2D_10,conv2D_13]\n",
    "concatenate_5 = self_concatenate_5(concatenate_5_TMP)\n",
    "conv2D_14 = self_conv2D_14(concatenate_5)\n",
    "concatenate_6_TMP = [concatenate_5,conv2D_14]\n",
    "concatenate_6 = self_concatenate_6(concatenate_6_TMP)\n",
    "conv2D_15 = self_conv2D_15(concatenate_6)\n",
    "concatenate_7_TMP = [concatenate_5,concatenate_6,conv2D_15]\n",
    "concatenate_7 = self_concatenate_7(concatenate_7_TMP)\n",
    "conv2D_16 = self_conv2D_16(concatenate_7)\n",
    "add_3 = Add()([conv2D_10,conv2D_16])\n",
    "conv2D_9 = self_conv2D_9(add_3)\n",
    "\n",
    "#outputs = tf.nn.depth_to_space(conv2D_9, 1)\n",
    "model = keras.Model(inputs =x , outputs=conv2D_9)\n"
   ]
  },
  {
   "cell_type": "code",
   "execution_count": 15,
   "metadata": {
    "colab": {
     "base_uri": "https://localhost:8080/",
     "height": 1000
    },
    "executionInfo": {
     "elapsed": 304,
     "status": "ok",
     "timestamp": 1729890283689,
     "user": {
      "displayName": "Stefania Stefanska",
      "userId": "00621967363159764559"
     },
     "user_tz": -120
    },
    "id": "g_bWv5rBXPZZ",
    "outputId": "e1a999c8-4b01-4474-dba7-ed12e6749b35"
   },
   "outputs": [
    {
     "name": "stdout",
     "output_type": "stream",
     "text": [
      "Model: \"model\"\n",
      "__________________________________________________________________________________________________\n",
      " Layer (type)                Output Shape                 Param #   Connected to                  \n",
      "==================================================================================================\n",
      " input_1 (InputLayer)        [(None, 512, 912, 3)]        0         []                            \n",
      "                                                                                                  \n",
      " conv2d (Conv2D)             (None, 256, 456, 16)         448       ['input_1[0][0]']             \n",
      "                                                                                                  \n",
      " smish (Smish)               (None, 256, 456, 16)         0         ['conv2d[0][0]']              \n",
      "                                                                                                  \n",
      " conv2d_1 (Conv2D)           (None, 256, 456, 16)         2320      ['smish[0][0]']               \n",
      "                                                                                                  \n",
      " smish_1 (Smish)             (None, 256, 456, 16)         0         ['conv2d_1[0][0]']            \n",
      "                                                                                                  \n",
      " conv2d_2 (Conv2D)           (None, 256, 456, 32)         4640      ['smish_1[0][0]']             \n",
      "                                                                                                  \n",
      " smish_2 (Smish)             (None, 256, 456, 32)         0         ['conv2d_2[0][0]']            \n",
      "                                                                                                  \n",
      " conv2d_5 (Conv2D)           (None, 256, 456, 32)         9248      ['smish_2[0][0]']             \n",
      "                                                                                                  \n",
      " conv2d_4 (Conv2D)           (None, 128, 228, 32)         544       ['smish_1[0][0]']             \n",
      "                                                                                                  \n",
      " max_pooling2d (MaxPooling2  (None, 128, 228, 32)         0         ['conv2d_5[0][0]']            \n",
      " D)                                                                                               \n",
      "                                                                                                  \n",
      " add (Add)                   (None, 128, 228, 32)         0         ['conv2d_4[0][0]',            \n",
      "                                                                     'max_pooling2d[0][0]']       \n",
      "                                                                                                  \n",
      " conv2d_8 (Conv2D)           (None, 128, 228, 32)         9248      ['add[0][0]']                 \n",
      "                                                                                                  \n",
      " smish_5 (Smish)             (None, 128, 228, 32)         0         ['conv2d_8[0][0]']            \n",
      "                                                                                                  \n",
      " conv2d_9 (Conv2D)           (None, 128, 228, 48)         13872     ['smish_5[0][0]']             \n",
      "                                                                                                  \n",
      " conv2d_7 (Conv2D)           (None, 128, 228, 48)         1584      ['max_pooling2d[0][0]']       \n",
      "                                                                                                  \n",
      " average (Average)           (None, 128, 228, 48)         0         ['conv2d_9[0][0]',            \n",
      "                                                                     'conv2d_7[0][0]']            \n",
      "                                                                                                  \n",
      " conv2d_10 (Conv2D)          (None, 128, 228, 16)         784       ['average[0][0]']             \n",
      "                                                                                                  \n",
      " smish_6 (Smish)             (None, 128, 228, 16)         0         ['conv2d_10[0][0]']           \n",
      "                                                                                                  \n",
      " conv2d_transpose_2 (Conv2D  (None, 256, 456, 16)         1040      ['smish_6[0][0]']             \n",
      " Transpose)                                                                                       \n",
      "                                                                                                  \n",
      " conv2d_3 (Conv2D)           (None, 256, 456, 1)          17        ['smish_1[0][0]']             \n",
      "                                                                                                  \n",
      " conv2d_11 (Conv2D)          (None, 256, 456, 1)          17        ['conv2d_transpose_2[0][0]']  \n",
      "                                                                                                  \n",
      " conv2d_6 (Conv2D)           (None, 256, 456, 1)          33        ['conv2d_5[0][0]']            \n",
      "                                                                                                  \n",
      " smish_3 (Smish)             (None, 256, 456, 1)          0         ['conv2d_3[0][0]']            \n",
      "                                                                                                  \n",
      " smish_7 (Smish)             (None, 256, 456, 1)          0         ['conv2d_11[0][0]']           \n",
      "                                                                                                  \n",
      " smish_4 (Smish)             (None, 256, 456, 1)          0         ['conv2d_6[0][0]']            \n",
      "                                                                                                  \n",
      " conv2d_transpose (Conv2DTr  (None, 512, 912, 1)          5         ['smish_3[0][0]']             \n",
      " anspose)                                                                                         \n",
      "                                                                                                  \n",
      " conv2d_transpose_3 (Conv2D  (None, 512, 912, 1)          17        ['smish_7[0][0]']             \n",
      " Transpose)                                                                                       \n",
      "                                                                                                  \n",
      " conv2d_transpose_1 (Conv2D  (None, 512, 912, 1)          5         ['smish_4[0][0]']             \n",
      " Transpose)                                                                                       \n",
      "                                                                                                  \n",
      " concatenate (Concatenate)   (None, 512, 912, 3)          0         ['conv2d_transpose[0][0]',    \n",
      "                                                                     'conv2d_transpose_3[0][0]',  \n",
      "                                                                     'conv2d_transpose_1[0][0]']  \n",
      "                                                                                                  \n",
      " conv2d_12 (Conv2D)          (None, 512, 912, 24)         672       ['concatenate[0][0]']         \n",
      "                                                                                                  \n",
      " conv2d_13 (Conv2D)          (None, 512, 912, 24)         5208      ['conv2d_12[0][0]']           \n",
      "                                                                                                  \n",
      " smish_8 (Smish)             (None, 512, 912, 24)         0         ['conv2d_13[0][0]']           \n",
      "                                                                                                  \n",
      " conv2d_14 (Conv2D)          (None, 512, 912, 24)         5208      ['smish_8[0][0]']             \n",
      "                                                                                                  \n",
      " concatenate_1 (Concatenate  (None, 512, 912, 48)         0         ['conv2d_13[0][0]',           \n",
      " )                                                                   'conv2d_14[0][0]']           \n",
      "                                                                                                  \n",
      " conv2d_15 (Conv2D)          (None, 512, 912, 24)         10392     ['concatenate_1[0][0]']       \n",
      "                                                                                                  \n",
      " concatenate_2 (Concatenate  (None, 512, 912, 72)         0         ['concatenate_1[0][0]',       \n",
      " )                                                                   'conv2d_15[0][0]']           \n",
      "                                                                                                  \n",
      " conv2d_16 (Conv2D)          (None, 512, 912, 24)         15576     ['concatenate_2[0][0]']       \n",
      "                                                                                                  \n",
      " concatenate_3 (Concatenate  (None, 512, 912, 144)        0         ['concatenate_1[0][0]',       \n",
      " )                                                                   'concatenate_2[0][0]',       \n",
      "                                                                     'conv2d_16[0][0]']           \n",
      "                                                                                                  \n",
      " conv2d_17 (Conv2D)          (None, 512, 912, 24)         31128     ['concatenate_3[0][0]']       \n",
      "                                                                                                  \n",
      " add_1 (Add)                 (None, 512, 912, 24)         0         ['conv2d_13[0][0]',           \n",
      "                                                                     'conv2d_17[0][0]']           \n",
      "                                                                                                  \n",
      " conv2d_18 (Conv2D)          (None, 512, 912, 32)         6944      ['add_1[0][0]']               \n",
      "                                                                                                  \n",
      " conv2d_19 (Conv2D)          (None, 512, 912, 32)         9248      ['conv2d_18[0][0]']           \n",
      "                                                                                                  \n",
      " concatenate_4 (Concatenate  (None, 512, 912, 64)         0         ['conv2d_18[0][0]',           \n",
      " )                                                                   'conv2d_19[0][0]']           \n",
      "                                                                                                  \n",
      " conv2d_20 (Conv2D)          (None, 512, 912, 32)         18464     ['concatenate_4[0][0]']       \n",
      "                                                                                                  \n",
      " concatenate_5 (Concatenate  (None, 512, 912, 96)         0         ['concatenate_4[0][0]',       \n",
      " )                                                                   'conv2d_20[0][0]']           \n",
      "                                                                                                  \n",
      " conv2d_21 (Conv2D)          (None, 512, 912, 32)         27680     ['concatenate_5[0][0]']       \n",
      "                                                                                                  \n",
      " concatenate_6 (Concatenate  (None, 512, 912, 192)        0         ['concatenate_4[0][0]',       \n",
      " )                                                                   'concatenate_5[0][0]',       \n",
      "                                                                     'conv2d_21[0][0]']           \n",
      "                                                                                                  \n",
      " conv2d_22 (Conv2D)          (None, 512, 912, 32)         55328     ['concatenate_6[0][0]']       \n",
      "                                                                                                  \n",
      " add_2 (Add)                 (None, 512, 912, 32)         0         ['conv2d_18[0][0]',           \n",
      "                                                                     'conv2d_22[0][0]']           \n",
      "                                                                                                  \n",
      " conv2d_23 (Conv2D)          (None, 512, 912, 1)          33        ['add_2[0][0]']               \n",
      "                                                                                                  \n",
      "==================================================================================================\n",
      "Total params: 229703 (897.28 KB)\n",
      "Trainable params: 229703 (897.28 KB)\n",
      "Non-trainable params: 0 (0.00 Byte)\n",
      "__________________________________________________________________________________________________\n"
     ]
    }
   ],
   "source": [
    "model.summary()"
   ]
  },
  {
   "cell_type": "code",
   "execution_count": 16,
   "metadata": {
    "id": "-RF4tlYwf3P3"
   },
   "outputs": [],
   "source": [
    "model.compile(\n",
    "    loss=\"binary_crossentropy\",\n",
    "    optimizer=\"adam\",\n",
    "    metrics=[tf.keras.metrics.BinaryAccuracy(),\n",
    "             tf.keras.metrics.FalseNegatives(),\n",
    "             tf.keras.metrics.FalsePositives(),\n",
    "             tf.keras.metrics.TruePositives(),\n",
    "            tf.keras.metrics.TrueNegatives()])"
   ]
  },
  {
   "cell_type": "code",
   "execution_count": 17,
   "metadata": {},
   "outputs": [],
   "source": [
    "model_filepath = output_path + \"/model-{epoch:02d}-{val_binary_accuracy:.4f}.hdf5\"\n",
    "checkpoint =ModelCheckpoint(\n",
    "    filepath=model_filepath,\n",
    "    monitor='val_binary_accuracy',\n",
    "    mode='max',\n",
    "    save_best_only=True,\n",
    "    verbose=1)\n",
    "    "
   ]
  },
  {
   "cell_type": "code",
   "execution_count": null,
   "metadata": {},
   "outputs": [
    {
     "name": "stdout",
     "output_type": "stream",
     "text": [
      "3383\n",
      "Epoch 1/20\n"
     ]
    },
    {
     "name": "stderr",
     "output_type": "stream",
     "text": [
      "2024-11-11 02:24:15.127222: I external/local_xla/xla/stream_executor/cuda/cuda_dnn.cc:467] Loaded cuDNN version 8904\n",
      "2024-11-11 02:26:42.433407: I external/local_xla/xla/service/service.cc:168] XLA service 0xfffe4627d610 initialized for platform CUDA (this does not guarantee that XLA will be used). Devices:\n",
      "2024-11-11 02:26:42.433518: I external/local_xla/xla/service/service.cc:176]   StreamExecutor device (0): Orin, Compute Capability 8.7\n",
      "2024-11-11 02:26:42.887049: I tensorflow/compiler/mlir/tensorflow/utils/dump_mlir_util.cc:269] disabling MLIR crash reproducer, set env var `MLIR_CRASH_REPRODUCER_DIRECTORY` to enable.\n",
      "WARNING: All log messages before absl::InitializeLog() is called are written to STDERR\n",
      "I0000 00:00:1731288403.640462  218324 device_compiler.h:186] Compiled cluster using XLA!  This line is logged at most once for the lifetime of the process.\n"
     ]
    },
    {
     "name": "stdout",
     "output_type": "stream",
     "text": [
      "3383/3383 [==============================] - ETA: 0s - loss: 0.1833 - binary_accuracy: 0.6452 - false_negatives: 6725284864.0000 - false_positives: 0.0000e+00 - true_positives: 0.0000e+00 - true_negatives: 12230295552.0000 \n",
      "Epoch 1: val_binary_accuracy improved from -inf to 0.64722, saving model to /media/Tomasz/4T/work/dexined/tmp/teed/model-01-0.6472.hdf5\n"
     ]
    },
    {
     "name": "stderr",
     "output_type": "stream",
     "text": [
      "/usr/local/lib/python3.10/dist-packages/keras/src/engine/training.py:3103: UserWarning: You are saving your model as an HDF5 file via `model.save()`. This file format is considered legacy. We recommend using instead the native Keras format, e.g. `model.save('my_model.keras')`.\n",
      "  saving_api.save_model(\n"
     ]
    },
    {
     "name": "stdout",
     "output_type": "stream",
     "text": [
      "3383/3383 [==============================] - 39373s 11s/step - loss: 0.1833 - binary_accuracy: 0.6452 - false_negatives: 6725284864.0000 - false_positives: 0.0000e+00 - true_positives: 0.0000e+00 - true_negatives: 12230295552.0000 - val_loss: 0.1629 - val_binary_accuracy: 0.6472 - val_false_negatives: 685600320.0000 - val_false_positives: 0.0000e+00 - val_true_positives: 0.0000e+00 - val_true_negatives: 1257820928.0000\n",
      "Epoch 2/20\n",
      "3383/3383 [==============================] - ETA: 0s - loss: 0.1833 - binary_accuracy: 0.6452 - false_negatives: 6725288448.0000 - false_positives: 0.0000e+00 - true_positives: 0.0000e+00 - true_negatives: 12230278144.0000\n",
      "Epoch 2: val_binary_accuracy did not improve from 0.64722\n",
      "3383/3383 [==============================] - 34172s 10s/step - loss: 0.1833 - binary_accuracy: 0.6452 - false_negatives: 6725288448.0000 - false_positives: 0.0000e+00 - true_positives: 0.0000e+00 - true_negatives: 12230278144.0000 - val_loss: 0.1629 - val_binary_accuracy: 0.6472 - val_false_negatives: 685600192.0000 - val_false_positives: 0.0000e+00 - val_true_positives: 0.0000e+00 - val_true_negatives: 1257820928.0000\n",
      "Epoch 3/20\n",
      "3383/3383 [==============================] - ETA: 0s - loss: 0.1833 - binary_accuracy: 0.6452 - false_negatives: 6725296128.0000 - false_positives: 0.0000e+00 - true_positives: 0.0000e+00 - true_negatives: 12230306816.0000\n",
      "Epoch 3: val_binary_accuracy did not improve from 0.64722\n",
      "3383/3383 [==============================] - 33780s 10s/step - loss: 0.1833 - binary_accuracy: 0.6452 - false_negatives: 6725296128.0000 - false_positives: 0.0000e+00 - true_positives: 0.0000e+00 - true_negatives: 12230306816.0000 - val_loss: 0.1629 - val_binary_accuracy: 0.6472 - val_false_negatives: 685600064.0000 - val_false_positives: 0.0000e+00 - val_true_positives: 0.0000e+00 - val_true_negatives: 1257820544.0000\n",
      "Epoch 4/20\n",
      "3383/3383 [==============================] - ETA: 0s - loss: 0.1833 - binary_accuracy: 0.6452 - false_negatives: 6725287936.0000 - false_positives: 0.0000e+00 - true_positives: 0.0000e+00 - true_negatives: 12230301696.0000\n",
      "Epoch 4: val_binary_accuracy did not improve from 0.64722\n",
      "3383/3383 [==============================] - 33798s 10s/step - loss: 0.1833 - binary_accuracy: 0.6452 - false_negatives: 6725287936.0000 - false_positives: 0.0000e+00 - true_positives: 0.0000e+00 - true_negatives: 12230301696.0000 - val_loss: 0.1629 - val_binary_accuracy: 0.6472 - val_false_negatives: 685600640.0000 - val_false_positives: 0.0000e+00 - val_true_positives: 0.0000e+00 - val_true_negatives: 1257820800.0000\n",
      "Epoch 5/20\n",
      "3383/3383 [==============================] - ETA: 0s - loss: 0.1833 - binary_accuracy: 0.6452 - false_negatives: 6725282816.0000 - false_positives: 0.0000e+00 - true_positives: 0.0000e+00 - true_negatives: 12230307840.0000\n",
      "Epoch 5: val_binary_accuracy did not improve from 0.64722\n",
      "3383/3383 [==============================] - 33783s 10s/step - loss: 0.1833 - binary_accuracy: 0.6452 - false_negatives: 6725282816.0000 - false_positives: 0.0000e+00 - true_positives: 0.0000e+00 - true_negatives: 12230307840.0000 - val_loss: 0.1629 - val_binary_accuracy: 0.6472 - val_false_negatives: 685600192.0000 - val_false_positives: 0.0000e+00 - val_true_positives: 0.0000e+00 - val_true_negatives: 1257820800.0000\n",
      "Epoch 6/20\n",
      "3383/3383 [==============================] - ETA: 0s - loss: 0.1833 - binary_accuracy: 0.6452 - false_negatives: 6725292032.0000 - false_positives: 0.0000e+00 - true_positives: 0.0000e+00 - true_negatives: 12230317056.0000\n",
      "Epoch 6: val_binary_accuracy did not improve from 0.64722\n",
      "3383/3383 [==============================] - 33779s 10s/step - loss: 0.1833 - binary_accuracy: 0.6452 - false_negatives: 6725292032.0000 - false_positives: 0.0000e+00 - true_positives: 0.0000e+00 - true_negatives: 12230317056.0000 - val_loss: 0.1629 - val_binary_accuracy: 0.6472 - val_false_negatives: 685600192.0000 - val_false_positives: 0.0000e+00 - val_true_positives: 0.0000e+00 - val_true_negatives: 1257820544.0000\n",
      "Epoch 7/20\n",
      "3105/3383 [==========================>...] - ETA: 44:41 - loss: 0.1833 - binary_accuracy: 0.6452 - false_negatives: 6172781568.0000 - false_positives: 0.0000e+00 - true_positives: 0.0000e+00 - true_negatives: 11225554944.0000"
     ]
    }
   ],
   "source": [
    "train_steps=len(train_data)\n",
    "val_steps=len(val_data)\n",
    "print(train_steps)\n",
    "H = model.fit(train_data, validation_data=val_data, epochs=20, steps_per_epoch=train_steps, validation_steps=val_steps, callbacks=[checkpoint])"
   ]
  },
  {
   "cell_type": "code",
   "execution_count": null,
   "metadata": {},
   "outputs": [],
   "source": [
    "H.history.keys()\n"
   ]
  },
  {
   "cell_type": "code",
   "execution_count": null,
   "metadata": {},
   "outputs": [],
   "source": [
    "plt.style.use(\"ggplot\")\n",
    "plt.figure()\n",
    "plt.plot(H.history[\"loss\"], label=\"train_loss\")\n",
    "plt.plot(H.history[\"binary_accuracy\"], label=\"train_binary_accuracy\")\n",
    "plt.plot(H.history[\"false_negatives\"], label=\"train_false_negatives\")\n",
    "plt.plot(H.history[\"false_positives\"], label=\"train_false_positives\")\n",
    "plt.plot(H.history[\"true_positives\"], label=\"train_true_positives\")\n",
    "plt.plot(H.history[\"true_negatives\"], label=\"train_true_negatives\")\n",
    "plt.title(\"Training Loss and b_accuracy\")\n",
    "plt.xlabel(\"Epoch #\")\n",
    "plt.ylabel(\"Loss / b_accuracy\")\n",
    "plt.legend(loc=\"lower left\")"
   ]
  },
  {
   "cell_type": "code",
   "execution_count": null,
   "metadata": {},
   "outputs": [],
   "source": [
    "plt.style.use(\"ggplot\")\n",
    "plt.figure()\n",
    "plt.plot(H.history[\"val_loss\"], label=\"val_loss\")\n",
    "plt.plot(H.history[\"val_binary_accuracy\"], label=\"val_binary_accuracy\")\n",
    "plt.plot(H.history[\"val_false_negatives\"], label=\"val_false_negatives\")\n",
    "plt.plot(H.history[\"val_false_positives\"], label=\"val_false_positives\")\n",
    "plt.plot(H.history[\"val_true_positives\"], label=\"val_true_positives\")\n",
    "plt.plot(H.history[\"val_true_negatives\"], label=\"val_true_negatives\")\n",
    "plt.title(\"Validation Loss and b_accuracy\")\n",
    "plt.xlabel(\"Epoch #\")\n",
    "plt.ylabel(\"val_Loss / val_b_accuracy\")\n",
    "plt.legend(loc=\"lower left\")"
   ]
  },
  {
   "cell_type": "code",
   "execution_count": null,
   "metadata": {},
   "outputs": [],
   "source": [
    "img_pre = read_image('/media/Tomasz/4T/work/dexined/tinyDexinedDataset/test/dense_781.png')\n",
    "img = np.expand_dims(img_pre, axis=0)\n",
    "plt.imshow(img_pre)"
   ]
  },
  {
   "cell_type": "code",
   "execution_count": null,
   "metadata": {},
   "outputs": [],
   "source": [
    "img_e = read_image('/media/Tomasz/4T/work/dexined/tinyDexinedDataset/test_edge/dense_781.png')\n",
    "#img = np.expand_dims(img, axis=0)\n",
    "plt.imshow(img_e)"
   ]
  },
  {
   "cell_type": "code",
   "execution_count": null,
   "metadata": {},
   "outputs": [],
   "source": [
    "#model.load_weights(\"H:\\\\tmp\\\\dexined\\\\checkpoint_dir\\\\dexined_tryepochs\\\\DexiNed10_model.h5\")\n",
    "res_pre = model.predict(img)\n",
    "res = res_pre[-1,:,:]\n",
    "plt.imshow(res)"
   ]
  },
  {
   "cell_type": "code",
   "execution_count": null,
   "metadata": {},
   "outputs": [],
   "source": [
    "def image_normalization(img, img_min=0, img_max=255):\n",
    "    \"\"\"This is a typical image normalization function\n",
    "    where the minimum and maximum of the image is needed\n",
    "    source: https://en.wikipedia.org/wiki/Normalization_(image_processing)\n",
    "    :param img: an image could be gray scale or color\n",
    "    :param img_min:  for default is 0\n",
    "    :param img_max: for default is 255\n",
    "    :return: a normalized image, if max is 255 the dtype is uint8\n",
    "    \"\"\"\n",
    "    img = np.float32(img)\n",
    "    epsilon=1e-12 # whenever an inconsistent image\n",
    "    img = (img-np.min(img))*(img_max-img_min)/((np.max(img)-np.min(img))+epsilon)+img_min\n",
    "    return img"
   ]
  },
  {
   "cell_type": "code",
   "execution_count": null,
   "metadata": {},
   "outputs": [],
   "source": [
    "import cv2\n",
    "res2=res\n",
    "res2[res2 < 0.0] = 0.0\n",
    "out=cv2.bitwise_not(np.uint8(image_normalization(res2)))\n",
    "plt.imshow(out, cmap='gray')"
   ]
  },
  {
   "cell_type": "code",
   "execution_count": null,
   "metadata": {},
   "outputs": [],
   "source": []
  },
  {
   "cell_type": "code",
   "execution_count": null,
   "metadata": {},
   "outputs": [],
   "source": []
  },
  {
   "cell_type": "code",
   "execution_count": null,
   "metadata": {},
   "outputs": [],
   "source": []
  },
  {
   "cell_type": "code",
   "execution_count": null,
   "metadata": {},
   "outputs": [],
   "source": []
  },
  {
   "cell_type": "code",
   "execution_count": null,
   "metadata": {},
   "outputs": [],
   "source": []
  },
  {
   "cell_type": "code",
   "execution_count": null,
   "metadata": {},
   "outputs": [],
   "source": []
  },
  {
   "cell_type": "code",
   "execution_count": null,
   "metadata": {},
   "outputs": [],
   "source": []
  },
  {
   "cell_type": "code",
   "execution_count": null,
   "metadata": {},
   "outputs": [],
   "source": []
  },
  {
   "cell_type": "code",
   "execution_count": null,
   "metadata": {},
   "outputs": [],
   "source": []
  }
 ],
 "metadata": {
  "accelerator": "GPU",
  "colab": {
   "authorship_tag": "ABX9TyPHvhZlsj853ynbRVQlO4au",
   "gpuType": "T4",
   "mount_file_id": "1hg6ehhBlxibKkFgFALsYuRk0CL30fwy-",
   "provenance": []
  },
  "kernelspec": {
   "display_name": "Python 3 (ipykernel)",
   "language": "python",
   "name": "python3"
  },
  "language_info": {
   "codemirror_mode": {
    "name": "ipython",
    "version": 3
   },
   "file_extension": ".py",
   "mimetype": "text/x-python",
   "name": "python",
   "nbconvert_exporter": "python",
   "pygments_lexer": "ipython3",
   "version": "3.8.10"
  }
 },
 "nbformat": 4,
 "nbformat_minor": 4
}
