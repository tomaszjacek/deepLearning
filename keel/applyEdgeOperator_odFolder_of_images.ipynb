{
 "cells": [
  {
   "cell_type": "code",
   "execution_count": 1,
   "id": "8b4878ed",
   "metadata": {},
   "outputs": [],
   "source": [
    "import numpy as np\n",
    "from glob import glob\n",
    "import matplotlib.pyplot as plt\n",
    "import cv2\n",
    "import os\n",
    "import math\n",
    "import scipy.ndimage"
   ]
  },
  {
   "cell_type": "code",
   "execution_count": 2,
   "id": "a406379d",
   "metadata": {},
   "outputs": [],
   "source": [
    "def read_image(path, H=512, W=512):\n",
    "    x = cv2.imread(path, cv2.IMREAD_GRAYSCALE)\n",
    "    x = cv2.resize(x, (W,H))\n",
    "    return x"
   ]
  },
  {
   "cell_type": "code",
   "execution_count": 3,
   "id": "2ed80be1",
   "metadata": {},
   "outputs": [],
   "source": [
    "def newEdgeOperator(imge):\n",
    "\n",
    "    N = imge.shape[0]\n",
    "    M = imge.shape[1]\n",
    "    result = np.zeros([N, M], dtype=float)\n",
    "    \n",
    "    result[0, :] = imge[0, :]\n",
    "    result[:, 0] = imge[:, 0]\n",
    "    result[N-1, :] = imge[N-1, :]\n",
    "    result[:, M-1] = imge[:, M-1]\n",
    "    \n",
    "    \n",
    "    #Sober Operator to the image.\n",
    "    for i in np.arange(1, N-1):\n",
    "        for j in np.arange(1, M-1):\n",
    "            subImage = imge[i-1:i+2, j-1:j+2]\n",
    "            #print(type(subImage))\n",
    "            maxValue = subImage.max()\n",
    "            minValue = subImage.min()\n",
    "            result[i+1, j+1] = maxValue-minValue\n",
    "    \n",
    "    return result"
   ]
  },
  {
   "cell_type": "code",
   "execution_count": 4,
   "id": "171dd0f6",
   "metadata": {},
   "outputs": [],
   "source": [
    "\n",
    "mainPath=\"I:\\\\download\\\\deepLearning\\\\datasets\\\\keelYolo\\\\keelTwoCalssesDataset\"\n",
    "workDir = \"cutOffByMaskOutput\"\n",
    "path = os.path.join(mainPath,workDir)\n",
    "\n",
    "workDirOut = workDir+\"Edged\"\n",
    "outPath = os.path.join(mainPath,workDirOut)\n",
    "\n",
    "\n",
    "os.makedirs(outPath, exist_ok=True)\n",
    "# iterate through the names of contents of the folder\n",
    "for image_path in os.listdir(path):\n",
    "\n",
    "    # create the full input path and read the file\n",
    "    input_path = os.path.join(path, image_path)\n",
    "    image = cv2.imread(input_path, cv2.IMREAD_GRAYSCALE)\n",
    "\n",
    "    # do morphology gradient\n",
    "    kernel = cv2.getStructuringElement(cv2.MORPH_RECT , (5,5))\n",
    "    morph = cv2.morphologyEx(image, cv2.MORPH_GRADIENT, kernel)\n",
    "\n",
    "    # apply gain\n",
    "    multiplied = cv2.multiply(morph, 5)\n",
    "    #edged = newEdgeOperator(multiplied)\n",
    "    \n",
    "    fullpath = os.path.join(outPath, 'edged_'+image_path)\n",
    "    cv2.imwrite(fullpath, multiplied)\n",
    "\n",
    "    "
   ]
  }
 ],
 "metadata": {
  "kernelspec": {
   "display_name": "Python 3 (ipykernel)",
   "language": "python",
   "name": "python3"
  },
  "language_info": {
   "codemirror_mode": {
    "name": "ipython",
    "version": 3
   },
   "file_extension": ".py",
   "mimetype": "text/x-python",
   "name": "python",
   "nbconvert_exporter": "python",
   "pygments_lexer": "ipython3",
   "version": "3.8.10"
  }
 },
 "nbformat": 4,
 "nbformat_minor": 5
}
