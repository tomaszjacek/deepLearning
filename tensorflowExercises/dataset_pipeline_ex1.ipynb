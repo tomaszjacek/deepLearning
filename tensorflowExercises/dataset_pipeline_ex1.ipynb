{
 "cells": [
  {
   "cell_type": "code",
   "execution_count": 1,
   "id": "b67c9134-4c67-49e7-bcf2-33f894798654",
   "metadata": {},
   "outputs": [
    {
     "name": "stderr",
     "output_type": "stream",
     "text": [
      "2024-11-10 15:00:13.066276: E external/local_xla/xla/stream_executor/cuda/cuda_dnn.cc:9373] Unable to register cuDNN factory: Attempting to register factory for plugin cuDNN when one has already been registered\n",
      "2024-11-10 15:00:13.066435: E external/local_xla/xla/stream_executor/cuda/cuda_fft.cc:607] Unable to register cuFFT factory: Attempting to register factory for plugin cuFFT when one has already been registered\n",
      "2024-11-10 15:00:13.196383: E external/local_xla/xla/stream_executor/cuda/cuda_blas.cc:1534] Unable to register cuBLAS factory: Attempting to register factory for plugin cuBLAS when one has already been registered\n"
     ]
    }
   ],
   "source": [
    "import tensorflow as tf\n",
    "import pathlib\n",
    "import os\n",
    "import matplotlib.pyplot as plt\n",
    "import pandas as pd\n",
    "import numpy as np\n",
    "\n",
    "np.set_printoptions(precision=4)"
   ]
  },
  {
   "cell_type": "code",
   "execution_count": 2,
   "id": "060762bc-ea2c-473c-ad00-b0b87bf73b59",
   "metadata": {},
   "outputs": [
    {
     "name": "stderr",
     "output_type": "stream",
     "text": [
      "2024-11-10 15:02:48.883842: I external/local_xla/xla/stream_executor/cuda/cuda_executor.cc:887] could not open file to read NUMA node: /sys/bus/pci/devices/0000:00:00.0/numa_node\n",
      "Your kernel may have been built without NUMA support.\n",
      "2024-11-10 15:02:49.187253: I external/local_xla/xla/stream_executor/cuda/cuda_executor.cc:887] could not open file to read NUMA node: /sys/bus/pci/devices/0000:00:00.0/numa_node\n",
      "Your kernel may have been built without NUMA support.\n",
      "2024-11-10 15:02:49.187546: I external/local_xla/xla/stream_executor/cuda/cuda_executor.cc:887] could not open file to read NUMA node: /sys/bus/pci/devices/0000:00:00.0/numa_node\n",
      "Your kernel may have been built without NUMA support.\n",
      "2024-11-10 15:02:49.190569: I external/local_xla/xla/stream_executor/cuda/cuda_executor.cc:887] could not open file to read NUMA node: /sys/bus/pci/devices/0000:00:00.0/numa_node\n",
      "Your kernel may have been built without NUMA support.\n",
      "2024-11-10 15:02:49.190743: I external/local_xla/xla/stream_executor/cuda/cuda_executor.cc:887] could not open file to read NUMA node: /sys/bus/pci/devices/0000:00:00.0/numa_node\n",
      "Your kernel may have been built without NUMA support.\n",
      "2024-11-10 15:02:49.190836: I external/local_xla/xla/stream_executor/cuda/cuda_executor.cc:887] could not open file to read NUMA node: /sys/bus/pci/devices/0000:00:00.0/numa_node\n",
      "Your kernel may have been built without NUMA support.\n",
      "2024-11-10 15:02:49.289832: I external/local_xla/xla/stream_executor/cuda/cuda_executor.cc:887] could not open file to read NUMA node: /sys/bus/pci/devices/0000:00:00.0/numa_node\n",
      "Your kernel may have been built without NUMA support.\n",
      "2024-11-10 15:02:49.290158: I external/local_xla/xla/stream_executor/cuda/cuda_executor.cc:887] could not open file to read NUMA node: /sys/bus/pci/devices/0000:00:00.0/numa_node\n",
      "Your kernel may have been built without NUMA support.\n",
      "2024-11-10 15:02:49.290251: I tensorflow/core/common_runtime/gpu/gpu_device.cc:2019] Could not identify NUMA node of platform GPU id 0, defaulting to 0.  Your kernel may not have been built with NUMA support.\n",
      "2024-11-10 15:02:49.290435: I external/local_xla/xla/stream_executor/cuda/cuda_executor.cc:887] could not open file to read NUMA node: /sys/bus/pci/devices/0000:00:00.0/numa_node\n",
      "Your kernel may have been built without NUMA support.\n",
      "2024-11-10 15:02:49.290528: I tensorflow/core/common_runtime/gpu/gpu_device.cc:1926] Created device /job:localhost/replica:0/task:0/device:GPU:0 with 55352 MB memory:  -> device: 0, name: Orin, pci bus id: 0000:00:00.0, compute capability: 8.7\n"
     ]
    },
    {
     "data": {
      "text/plain": [
       "<_TensorSliceDataset element_spec=TensorSpec(shape=(), dtype=tf.int32, name=None)>"
      ]
     },
     "execution_count": 2,
     "metadata": {},
     "output_type": "execute_result"
    }
   ],
   "source": [
    "dataset = tf.data.Dataset.from_tensor_slices([8, 3, 0, 8, 2, 1])\n",
    "dataset"
   ]
  },
  {
   "cell_type": "code",
   "execution_count": 3,
   "id": "803b5592-b673-4a2c-af7e-951d078df729",
   "metadata": {},
   "outputs": [
    {
     "name": "stdout",
     "output_type": "stream",
     "text": [
      "8\n",
      "3\n",
      "0\n",
      "8\n",
      "2\n",
      "1\n"
     ]
    }
   ],
   "source": [
    "for elem in dataset:\n",
    "  print(elem.numpy())"
   ]
  },
  {
   "cell_type": "code",
   "execution_count": 4,
   "id": "ed728a52-aed3-48b0-bc7c-b62873a1bbe1",
   "metadata": {},
   "outputs": [
    {
     "name": "stdout",
     "output_type": "stream",
     "text": [
      "8\n"
     ]
    }
   ],
   "source": [
    "it = iter(dataset)\n",
    "\n",
    "print(next(it).numpy())"
   ]
  },
  {
   "cell_type": "code",
   "execution_count": 5,
   "id": "38a94864-9cda-4c42-8c07-e62ffe57ce98",
   "metadata": {},
   "outputs": [
    {
     "data": {
      "text/plain": [
       "TensorSpec(shape=(), dtype=tf.int32, name=None)"
      ]
     },
     "execution_count": 5,
     "metadata": {},
     "output_type": "execute_result"
    }
   ],
   "source": [
    "dataset.element_spec"
   ]
  },
  {
   "cell_type": "code",
   "execution_count": 6,
   "id": "015b4740-e9c7-4046-b936-25fb680f36e6",
   "metadata": {},
   "outputs": [
    {
     "data": {
      "text/plain": [
       "(TensorSpec(shape=(), dtype=tf.float32, name=None),\n",
       " TensorSpec(shape=(100,), dtype=tf.int32, name=None))"
      ]
     },
     "execution_count": 6,
     "metadata": {},
     "output_type": "execute_result"
    }
   ],
   "source": [
    "dataset2 = tf.data.Dataset.from_tensor_slices(\n",
    "   (tf.random.uniform([4]),\n",
    "    tf.random.uniform([4, 100], maxval=100, dtype=tf.int32)))\n",
    "\n",
    "dataset2.element_spec"
   ]
  },
  {
   "cell_type": "code",
   "execution_count": 8,
   "id": "cd00de1f-8c70-4625-871d-10da4f42fa7b",
   "metadata": {},
   "outputs": [
    {
     "data": {
      "text/plain": [
       "(TensorSpec(shape=(), dtype=tf.int32, name=None),\n",
       " (TensorSpec(shape=(), dtype=tf.float32, name=None),\n",
       "  TensorSpec(shape=(100,), dtype=tf.int32, name=None)))"
      ]
     },
     "execution_count": 8,
     "metadata": {},
     "output_type": "execute_result"
    }
   ],
   "source": [
    "dataset3 = tf.data.Dataset.zip((dataset, dataset2))\n",
    "\n",
    "dataset3.element_spec"
   ]
  },
  {
   "cell_type": "code",
   "execution_count": 10,
   "id": "c7f388c9-85c5-4d09-8a3e-a7bc0e6d9f72",
   "metadata": {},
   "outputs": [
    {
     "data": {
      "text/plain": [
       "SparseTensorSpec(TensorShape([3, 4]), tf.int32)"
      ]
     },
     "execution_count": 10,
     "metadata": {},
     "output_type": "execute_result"
    }
   ],
   "source": [
    "dataset4 = tf.data.Dataset.from_tensors(tf.SparseTensor(indices=[[0, 0], [1, 2]], values=[1, 2], dense_shape=[3, 4]))\n",
    "\n",
    "dataset4.element_spec"
   ]
  },
  {
   "cell_type": "code",
   "execution_count": 12,
   "id": "ba827534-b47b-4af9-a052-b288d6b570e3",
   "metadata": {},
   "outputs": [
    {
     "data": {
      "text/plain": [
       "tensorflow.python.framework.sparse_tensor.SparseTensor"
      ]
     },
     "execution_count": 12,
     "metadata": {},
     "output_type": "execute_result"
    }
   ],
   "source": [
    "dataset4.element_spec.value_type"
   ]
  },
  {
   "cell_type": "code",
   "execution_count": 18,
   "id": "7e3cf601-da4f-40c4-aaae-6bb109081cd2",
   "metadata": {},
   "outputs": [
    {
     "name": "stdout",
     "output_type": "stream",
     "text": [
      "[7 5 4 5 8 5 7 3 8 7]\n",
      "[1 7 1 3 5 8 6 8 2 7]\n",
      "[2 3 1 8 9 5 1 1 9 6]\n",
      "[6 3 8 2 9 3 6 1 5 2]\n"
     ]
    }
   ],
   "source": [
    "dataset1 = tf.data.Dataset.from_tensor_slices(\n",
    "    tf.random.uniform([4, 10], minval=1, maxval=10, dtype=tf.int32))\n",
    "\n",
    "for z in dataset1:\n",
    "  print(z.numpy())"
   ]
  },
  {
   "cell_type": "code",
   "execution_count": 20,
   "id": "78cfda27-5b74-405d-9c8e-b5860619a9a6",
   "metadata": {},
   "outputs": [
    {
     "name": "stdout",
     "output_type": "stream",
     "text": [
      "(<tf.Tensor: shape=(), dtype=float32, numpy=0.23188627>, <tf.Tensor: shape=(100,), dtype=int32, numpy=\n",
      "array([24, 76, 56, 13, 90, 21, 31, 29, 16, 54, 72, 11, 13, 74, 75, 85, 93,\n",
      "       38, 92, 42, 69, 81, 71, 66, 52, 98, 10, 26, 33, 45,  3, 87, 83, 41,\n",
      "       91, 58, 20, 66, 38, 87, 70, 51, 53,  2,  4, 78, 26, 89, 52, 25, 37,\n",
      "       53, 39, 42, 76, 34, 18, 29, 56,  8, 83, 15, 52, 56, 31, 86,  4, 46,\n",
      "       82, 11, 67, 73,  9, 25, 20, 13, 12, 25, 88, 75, 53, 50, 53, 38, 85,\n",
      "       84, 89, 52, 12,  3, 63, 22, 32,  0, 53, 32, 81, 68,  6, 47],\n",
      "      dtype=int32)>)\n",
      "(<tf.Tensor: shape=(), dtype=float32, numpy=0.20562696>, <tf.Tensor: shape=(100,), dtype=int32, numpy=\n",
      "array([23, 40, 26, 10, 34, 72, 68, 32, 74, 10, 77, 52, 59, 37,  8, 21, 16,\n",
      "       61, 14, 64, 99,  3, 10, 32, 17, 22, 18, 78, 87, 62, 16, 50, 73, 91,\n",
      "       55, 94, 53, 39, 55, 15, 56, 52, 33, 13, 48, 84, 50, 59, 40, 79, 36,\n",
      "       66, 78, 68, 54, 73, 19, 42, 94, 91, 49, 47, 14, 85, 60, 74, 41, 59,\n",
      "       74, 47, 43, 33, 69, 58, 14, 25, 46,  0, 88, 34, 97, 21, 11, 14, 97,\n",
      "       49, 82, 96, 35, 57, 85, 84, 80, 95, 26, 17, 94, 67, 92, 71],\n",
      "      dtype=int32)>)\n",
      "(<tf.Tensor: shape=(), dtype=float32, numpy=0.56756425>, <tf.Tensor: shape=(100,), dtype=int32, numpy=\n",
      "array([99, 99, 92, 47, 44, 76, 96, 65, 58, 61, 20,  3, 27, 10, 63,  8, 44,\n",
      "        3, 71, 85, 77, 12, 51, 48, 19, 22, 87, 73, 12, 51,  8, 39, 97, 25,\n",
      "       17,  2, 33, 62, 25, 25, 54, 84, 65, 27, 47,  7, 97, 38, 27, 42, 84,\n",
      "       72, 58, 83, 25, 44,  8, 78, 43, 49, 80, 95, 57, 12, 86, 41, 13, 30,\n",
      "        4, 61, 50, 36, 71, 21, 15, 69, 71, 69, 60, 35, 31, 98, 25, 75, 71,\n",
      "       66, 64,  4, 98, 19, 44, 10, 34, 91, 81,  6, 61, 75, 22, 63],\n",
      "      dtype=int32)>)\n",
      "(<tf.Tensor: shape=(), dtype=float32, numpy=0.040202975>, <tf.Tensor: shape=(100,), dtype=int32, numpy=\n",
      "array([12, 86, 63, 13, 29, 61, 79, 61, 20, 72, 36,  8, 74, 15, 69, 78, 62,\n",
      "       23, 21, 95, 72, 97, 60, 46, 96, 43, 13, 14, 68, 28, 37, 56, 13, 23,\n",
      "       82,  6, 47, 77,  3, 71, 64,  7, 69, 19, 34,  4, 16, 82, 31, 12, 13,\n",
      "       36, 88, 77, 92, 75, 33, 93, 44, 66, 47,  9, 85, 40, 73,  0, 72, 71,\n",
      "       18, 72, 30, 15, 30, 80, 26,  4, 88, 61, 34, 36, 29, 10, 55,  0,  7,\n",
      "       78, 78, 94, 12, 87, 68, 17, 77, 34, 75, 91, 60, 33,  3, 93],\n",
      "      dtype=int32)>)\n"
     ]
    }
   ],
   "source": [
    "dataset2 = tf.data.Dataset.from_tensor_slices(\n",
    "   (tf.random.uniform([4]),\n",
    "    tf.random.uniform([4, 100], maxval=100, dtype=tf.int32)))\n",
    "\n",
    "for z in dataset2:\n",
    "  print(z)"
   ]
  },
  {
   "cell_type": "code",
   "execution_count": 22,
   "id": "a23da5ea-ad2c-4e0f-beee-d207bb0fbb46",
   "metadata": {},
   "outputs": [
    {
     "name": "stdout",
     "output_type": "stream",
     "text": [
      "shapes: (10,), (), (100,)\n",
      "shapes: (10,), (), (100,)\n",
      "shapes: (10,), (), (100,)\n",
      "shapes: (10,), (), (100,)\n"
     ]
    }
   ],
   "source": [
    "dataset3 = tf.data.Dataset.zip((dataset1, dataset2))\n",
    "\n",
    "for a, (b,c) in dataset3:\n",
    "  print('shapes: {a.shape}, {b.shape}, {c.shape}'.format(a=a, b=b, c=c))"
   ]
  },
  {
   "cell_type": "code",
   "execution_count": 34,
   "id": "614ba061-301b-449a-afb1-eeab0e4125e4",
   "metadata": {},
   "outputs": [
    {
     "name": "stdout",
     "output_type": "stream",
     "text": [
      "0\n",
      "1\n",
      "2\n",
      "3\n",
      "4\n"
     ]
    }
   ],
   "source": [
    "def count(stop):\n",
    "  i = 0\n",
    "  while i<stop:\n",
    "    yield i\n",
    "    i += 1\n",
    "\n",
    "      \n",
    "for n in count(5):\n",
    "  print(n)"
   ]
  },
  {
   "cell_type": "code",
   "execution_count": 49,
   "id": "818b45c3-97f1-4093-9de8-d3e5ead70355",
   "metadata": {},
   "outputs": [
    {
     "name": "stdout",
     "output_type": "stream",
     "text": [
      "[0 1 2 3 4 5]\n"
     ]
    }
   ],
   "source": [
    "ds_counter = tf.data.Dataset.from_generator(count, args=[25], output_types=tf.int32, output_shapes = (), )\n",
    "for count_batch in ds_counter.repeat().batch(6).take(1):\n",
    "  print(count_batch.numpy())"
   ]
  },
  {
   "cell_type": "code",
   "execution_count": 44,
   "id": "c4275354-4960-48fb-97fb-33283e3da9f6",
   "metadata": {},
   "outputs": [
    {
     "name": "stdout",
     "output_type": "stream",
     "text": [
      "0 : [-0.9718 -0.2935]\n",
      "1 : [-0.7655 -0.4276 -0.5032]\n",
      "2 : [-0.3409]\n",
      "3 : [ 1.4888 -0.0656  1.054   3.0871 -0.9626]\n",
      "4 : [-1.8391 -0.7658 -1.5449 -1.0887 -0.7001  0.6878 -0.1837]\n",
      "5 : []\n",
      "6 : [0.4934]\n"
     ]
    }
   ],
   "source": [
    "def gen_series():\n",
    "  i = 0\n",
    "  while True:\n",
    "    size = np.random.randint(0, 10)\n",
    "    yield i, np.random.normal(size=(size,))\n",
    "    i += 1\n",
    "for i, series in gen_series():\n",
    "  print(i, \":\", str(series))\n",
    "  if i > 5:\n",
    "    break\n",
    "\n",
    "      "
   ]
  },
  {
   "cell_type": "code",
   "execution_count": 45,
   "id": "78dcb366-e703-425f-95ba-909331f9799d",
   "metadata": {},
   "outputs": [
    {
     "data": {
      "text/plain": [
       "<_FlatMapDataset element_spec=(TensorSpec(shape=(), dtype=tf.int32, name=None), TensorSpec(shape=(None,), dtype=tf.float32, name=None))>"
      ]
     },
     "execution_count": 45,
     "metadata": {},
     "output_type": "execute_result"
    }
   ],
   "source": [
    "ds_series = tf.data.Dataset.from_generator(\n",
    "    gen_series,\n",
    "    output_types=(tf.int32, tf.float32),\n",
    "    output_shapes=((), (None,)))\n",
    "\n",
    "ds_series"
   ]
  },
  {
   "cell_type": "code",
   "execution_count": 46,
   "id": "ef348cf4-80aa-41f1-a88a-c192d0318169",
   "metadata": {},
   "outputs": [
    {
     "name": "stdout",
     "output_type": "stream",
     "text": [
      "[ 5 10  9  0  4 15 11 13 26 22]\n",
      "\n",
      "[[-0.3957  0.6878 -1.1684 -0.5284  2.2756  1.062   0.22    0.      0.    ]\n",
      " [ 1.2938  0.      0.      0.      0.      0.      0.      0.      0.    ]\n",
      " [-0.0681  1.2538  2.4857  0.4479  1.2044  0.      0.      0.      0.    ]\n",
      " [-0.4797  0.6935 -1.5512  1.7128 -0.1282 -0.4189 -0.2981  0.5774 -0.066 ]\n",
      " [ 0.4854  0.148   0.3847  0.0089  0.      0.      0.      0.      0.    ]\n",
      " [-0.6327  0.197   0.      0.      0.      0.      0.      0.      0.    ]\n",
      " [ 0.658  -0.6767 -0.1423  0.698  -0.5115  0.3881  0.      0.      0.    ]\n",
      " [ 0.      0.      0.      0.      0.      0.      0.      0.      0.    ]\n",
      " [-1.0399  1.2333  0.3618 -0.2724 -0.4229  1.4129  0.2917  0.      0.    ]\n",
      " [-0.0453  0.9444  0.3783  0.367   0.5489  0.8278  1.0721  0.1808  0.    ]]\n"
     ]
    }
   ],
   "source": [
    "ds_series_batch = ds_series.shuffle(20).padded_batch(10)\n",
    "\n",
    "ids, sequence_batch = next(iter(ds_series_batch))\n",
    "print(ids.numpy())\n",
    "print()\n",
    "print(sequence_batch.numpy())"
   ]
  }
 ],
 "metadata": {
  "kernelspec": {
   "display_name": "Python 3 (ipykernel)",
   "language": "python",
   "name": "python3"
  },
  "language_info": {
   "codemirror_mode": {
    "name": "ipython",
    "version": 3
   },
   "file_extension": ".py",
   "mimetype": "text/x-python",
   "name": "python",
   "nbconvert_exporter": "python",
   "pygments_lexer": "ipython3",
   "version": "3.10.12"
  }
 },
 "nbformat": 4,
 "nbformat_minor": 5
}
